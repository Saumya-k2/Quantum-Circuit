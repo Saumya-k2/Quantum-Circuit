{
  "nbformat": 4,
  "nbformat_minor": 0,
  "metadata": {
    "colab": {
      "name": "QuantumComputing.ipynb",
      "provenance": [],
      "collapsed_sections": []
    },
    "kernelspec": {
      "name": "python3",
      "display_name": "Python 3"
    }
  },
  "cells": [
    {
      "cell_type": "code",
      "metadata": {
        "id": "zK282zCvy9EQ"
      },
      "source": [
        "import numpy as np\r\n",
        "import matplotlib.pyplot as plt\r\n",
        "\r\n",
        "from qiskit import *"
      ],
      "execution_count": 8,
      "outputs": []
    },
    {
      "cell_type": "code",
      "metadata": {
        "colab": {
          "base_uri": "https://localhost:8080/"
        },
        "id": "XrGOMaGFzU8U",
        "outputId": "83ff9ae3-70ff-464a-e1ed-b98f09c5d041"
      },
      "source": [
        "!pip install qiskit"
      ],
      "execution_count": 2,
      "outputs": [
        {
          "output_type": "stream",
          "text": [
            "Collecting qiskit\n",
            "  Downloading https://files.pythonhosted.org/packages/8b/b6/9e38d181beb9dd07748cb36eb37ba5dfd43c34e7e1cab0afcd15e949c306/qiskit-0.23.2.tar.gz\n",
            "Collecting qiskit-terra==0.16.1\n",
            "\u001b[?25l  Downloading https://files.pythonhosted.org/packages/66/91/813c0b986fa953d09ff58c74a7948bf9d52c64497319746bb4a1bb0e7f3a/qiskit_terra-0.16.1-cp36-cp36m-manylinux2010_x86_64.whl (8.5MB)\n",
            "\u001b[K     |████████████████████████████████| 8.5MB 11.2MB/s \n",
            "\u001b[?25hCollecting qiskit-aer==0.7.2\n",
            "\u001b[?25l  Downloading https://files.pythonhosted.org/packages/9b/5a/caa85b889de9aa4250fff68e76ad82fd2916f63b1eb3cced1c5419efe215/qiskit_aer-0.7.2-cp36-cp36m-manylinux2010_x86_64.whl (17.6MB)\n",
            "\u001b[K     |████████████████████████████████| 17.6MB 252kB/s \n",
            "\u001b[?25hCollecting qiskit-ibmq-provider==0.11.1\n",
            "\u001b[?25l  Downloading https://files.pythonhosted.org/packages/32/b9/f99bec4fdc4dec234d8a85a8da378750441a203c614be35353f5e8738316/qiskit_ibmq_provider-0.11.1-py3-none-any.whl (195kB)\n",
            "\u001b[K     |████████████████████████████████| 204kB 35.5MB/s \n",
            "\u001b[?25hCollecting qiskit-ignis==0.5.1\n",
            "\u001b[?25l  Downloading https://files.pythonhosted.org/packages/f7/42/5e151db90ebeb0d08d0f799f72c1922cded76065b03c4ca4fc11ec0085ce/qiskit_ignis-0.5.1-py3-none-any.whl (204kB)\n",
            "\u001b[K     |████████████████████████████████| 204kB 50.2MB/s \n",
            "\u001b[?25hCollecting qiskit-aqua==0.8.1\n",
            "\u001b[?25l  Downloading https://files.pythonhosted.org/packages/4d/5f/41abad4b0375effe79a51a20130da6c18bb2101c257366aab0f300197e53/qiskit_aqua-0.8.1-py3-none-any.whl (2.1MB)\n",
            "\u001b[K     |████████████████████████████████| 2.1MB 36.9MB/s \n",
            "\u001b[?25hRequirement already satisfied: numpy>=1.17 in /usr/local/lib/python3.6/dist-packages (from qiskit-terra==0.16.1->qiskit) (1.19.4)\n",
            "Collecting sympy>=1.3\n",
            "\u001b[?25l  Downloading https://files.pythonhosted.org/packages/ff/69/b16fc81b939d3efdd0b552f2e3e54f7fa1423d0c320cced2e69e675dde26/sympy-1.7.1-py3-none-any.whl (5.9MB)\n",
            "\u001b[K     |████████████████████████████████| 5.9MB 44.8MB/s \n",
            "\u001b[?25hRequirement already satisfied: networkx>=2.2 in /usr/local/lib/python3.6/dist-packages (from qiskit-terra==0.16.1->qiskit) (2.5)\n",
            "Collecting fastjsonschema>=2.10\n",
            "  Downloading https://files.pythonhosted.org/packages/c7/47/e860ab658dc2da844e6fdb76b12f6b3e14fbcb62fdd04f3e1c572bca20e1/fastjsonschema-2.14.5-py3-none-any.whl\n",
            "Requirement already satisfied: jsonschema>=2.6 in /usr/local/lib/python3.6/dist-packages (from qiskit-terra==0.16.1->qiskit) (2.6.0)\n",
            "Requirement already satisfied: psutil>=5 in /usr/local/lib/python3.6/dist-packages (from qiskit-terra==0.16.1->qiskit) (5.4.8)\n",
            "Requirement already satisfied: scipy>=1.4 in /usr/local/lib/python3.6/dist-packages (from qiskit-terra==0.16.1->qiskit) (1.4.1)\n",
            "Collecting python-constraint>=1.4\n",
            "  Downloading https://files.pythonhosted.org/packages/37/8b/5f1bc2734ca611943e1d6733ee244238679f6410a10cd45ede55a61a8402/python-constraint-1.4.0.tar.bz2\n",
            "Collecting contextvars>=2.4; python_version < \"3.7\"\n",
            "  Downloading https://files.pythonhosted.org/packages/83/96/55b82d9f13763be9d672622e1b8106c85acb83edd7cc2fa5bc67cd9877e9/contextvars-2.4.tar.gz\n",
            "Requirement already satisfied: python-dateutil>=2.8.0 in /usr/local/lib/python3.6/dist-packages (from qiskit-terra==0.16.1->qiskit) (2.8.1)\n",
            "Requirement already satisfied: dill>=0.3 in /usr/local/lib/python3.6/dist-packages (from qiskit-terra==0.16.1->qiskit) (0.3.3)\n",
            "Collecting ply>=3.10\n",
            "\u001b[?25l  Downloading https://files.pythonhosted.org/packages/a3/58/35da89ee790598a0700ea49b2a66594140f44dec458c07e8e3d4979137fc/ply-3.11-py2.py3-none-any.whl (49kB)\n",
            "\u001b[K     |████████████████████████████████| 51kB 6.4MB/s \n",
            "\u001b[?25hCollecting retworkx>=0.5.0\n",
            "\u001b[?25l  Downloading https://files.pythonhosted.org/packages/b7/21/5d4498cedb23927a31173176975e2162e0d6a2b80846ef254dd5500e10da/retworkx-0.7.2-cp36-cp36m-manylinux2010_x86_64.whl (1.3MB)\n",
            "\u001b[K     |████████████████████████████████| 1.3MB 44.7MB/s \n",
            "\u001b[?25hCollecting pybind11>=2.4\n",
            "\u001b[?25l  Downloading https://files.pythonhosted.org/packages/00/84/fc9dc13ee536ba5e6b8fd10ce368fea5b738fe394c3b296cde7c9b144a92/pybind11-2.6.1-py2.py3-none-any.whl (188kB)\n",
            "\u001b[K     |████████████████████████████████| 194kB 54.5MB/s \n",
            "\u001b[?25hRequirement already satisfied: cython>=0.27.1 in /usr/local/lib/python3.6/dist-packages (from qiskit-aer==0.7.2->qiskit) (0.29.21)\n",
            "Requirement already satisfied: urllib3>=1.21.1 in /usr/local/lib/python3.6/dist-packages (from qiskit-ibmq-provider==0.11.1->qiskit) (1.24.3)\n",
            "Collecting requests-ntlm>=1.1.0\n",
            "  Downloading https://files.pythonhosted.org/packages/03/4b/8b9a1afde8072c4d5710d9fa91433d504325821b038e00237dc8d6d833dc/requests_ntlm-1.1.0-py2.py3-none-any.whl\n",
            "Collecting websockets>=8\n",
            "\u001b[?25l  Downloading https://files.pythonhosted.org/packages/bb/d9/856af84843912e2853b1b6e898ac8b802989fcf9ecf8e8445a1da263bf3b/websockets-8.1-cp36-cp36m-manylinux2010_x86_64.whl (78kB)\n",
            "\u001b[K     |████████████████████████████████| 81kB 8.9MB/s \n",
            "\u001b[?25hRequirement already satisfied: nest-asyncio!=1.1.0,>=1.0.0 in /usr/local/lib/python3.6/dist-packages (from qiskit-ibmq-provider==0.11.1->qiskit) (1.4.3)\n",
            "Requirement already satisfied: requests>=2.19 in /usr/local/lib/python3.6/dist-packages (from qiskit-ibmq-provider==0.11.1->qiskit) (2.23.0)\n",
            "Requirement already satisfied: scikit-learn>=0.17 in /usr/local/lib/python3.6/dist-packages (from qiskit-ignis==0.5.1->qiskit) (0.22.2.post1)\n",
            "Requirement already satisfied: setuptools>=40.1.0 in /usr/local/lib/python3.6/dist-packages (from qiskit-ignis==0.5.1->qiskit) (51.0.0)\n",
            "Requirement already satisfied: h5py in /usr/local/lib/python3.6/dist-packages (from qiskit-aqua==0.8.1->qiskit) (2.10.0)\n",
            "Collecting yfinance\n",
            "  Downloading https://files.pythonhosted.org/packages/7a/e8/b9d7104d3a4bf39924799067592d9e59119fcfc900a425a12e80a3123ec8/yfinance-0.1.55.tar.gz\n",
            "Collecting quandl\n",
            "  Downloading https://files.pythonhosted.org/packages/1f/37/2d908ea6de71a46f4bb2faf5ff0032cefe56117b715c7f22d1d0d2e7527d/Quandl-3.5.3-py2.py3-none-any.whl\n",
            "Collecting dlx\n",
            "  Downloading https://files.pythonhosted.org/packages/54/c0/b8fb5bb727e983b6f5251433ef941b48f38c65bb0bd6ec509e9185bcd406/dlx-1.0.4.tar.gz\n",
            "Collecting docplex\n",
            "\u001b[?25l  Downloading https://files.pythonhosted.org/packages/6e/53/7d85a2e2b8559d3dc08ffde370c0f57189ffd9e35493acf1f719f6ac5e0d/docplex-2.19.202.tar.gz (607kB)\n",
            "\u001b[K     |████████████████████████████████| 614kB 51.8MB/s \n",
            "\u001b[?25hRequirement already satisfied: fastdtw in /usr/local/lib/python3.6/dist-packages (from qiskit-aqua==0.8.1->qiskit) (0.3.4)\n",
            "Requirement already satisfied: pandas in /usr/local/lib/python3.6/dist-packages (from qiskit-aqua==0.8.1->qiskit) (1.1.5)\n",
            "Requirement already satisfied: mpmath>=0.19 in /usr/local/lib/python3.6/dist-packages (from sympy>=1.3->qiskit-terra==0.16.1->qiskit) (1.1.0)\n",
            "Requirement already satisfied: decorator>=4.3.0 in /usr/local/lib/python3.6/dist-packages (from networkx>=2.2->qiskit-terra==0.16.1->qiskit) (4.4.2)\n",
            "Collecting immutables>=0.9\n",
            "\u001b[?25l  Downloading https://files.pythonhosted.org/packages/99/e0/ea6fd4697120327d26773b5a84853f897a68e33d3f9376b00a8ff96e4f63/immutables-0.14-cp36-cp36m-manylinux1_x86_64.whl (98kB)\n",
            "\u001b[K     |████████████████████████████████| 102kB 10.4MB/s \n",
            "\u001b[?25hRequirement already satisfied: six>=1.5 in /usr/local/lib/python3.6/dist-packages (from python-dateutil>=2.8.0->qiskit-terra==0.16.1->qiskit) (1.15.0)\n",
            "Collecting cryptography>=1.3\n",
            "\u001b[?25l  Downloading https://files.pythonhosted.org/packages/c9/de/7054df0620b5411ba45480f0261e1fb66a53f3db31b28e3aa52c026e72d9/cryptography-3.3.1-cp36-abi3-manylinux2010_x86_64.whl (2.6MB)\n",
            "\u001b[K     |████████████████████████████████| 2.6MB 57.2MB/s \n",
            "\u001b[?25hCollecting ntlm-auth>=1.0.2\n",
            "  Downloading https://files.pythonhosted.org/packages/ff/84/97c550164b54942b0e908c31ef09d9469f3ba4cd7332a671e2125732f63b/ntlm_auth-1.5.0-py2.py3-none-any.whl\n",
            "Requirement already satisfied: certifi>=2017.4.17 in /usr/local/lib/python3.6/dist-packages (from requests>=2.19->qiskit-ibmq-provider==0.11.1->qiskit) (2020.12.5)\n",
            "Requirement already satisfied: idna<3,>=2.5 in /usr/local/lib/python3.6/dist-packages (from requests>=2.19->qiskit-ibmq-provider==0.11.1->qiskit) (2.10)\n",
            "Requirement already satisfied: chardet<4,>=3.0.2 in /usr/local/lib/python3.6/dist-packages (from requests>=2.19->qiskit-ibmq-provider==0.11.1->qiskit) (3.0.4)\n",
            "Requirement already satisfied: joblib>=0.11 in /usr/local/lib/python3.6/dist-packages (from scikit-learn>=0.17->qiskit-ignis==0.5.1->qiskit) (1.0.0)\n",
            "Requirement already satisfied: multitasking>=0.0.7 in /usr/local/lib/python3.6/dist-packages (from yfinance->qiskit-aqua==0.8.1->qiskit) (0.0.9)\n",
            "Collecting lxml>=4.5.1\n",
            "\u001b[?25l  Downloading https://files.pythonhosted.org/packages/bd/78/56a7c88a57d0d14945472535d0df9fb4bbad7d34ede658ec7961635c790e/lxml-4.6.2-cp36-cp36m-manylinux1_x86_64.whl (5.5MB)\n",
            "\u001b[K     |████████████████████████████████| 5.5MB 41.9MB/s \n",
            "\u001b[?25hCollecting inflection>=0.3.1\n",
            "  Downloading https://files.pythonhosted.org/packages/59/91/aa6bde563e0085a02a435aa99b49ef75b0a4b062635e606dab23ce18d720/inflection-0.5.1-py2.py3-none-any.whl\n",
            "Requirement already satisfied: more-itertools in /usr/local/lib/python3.6/dist-packages (from quandl->qiskit-aqua==0.8.1->qiskit) (8.6.0)\n",
            "Requirement already satisfied: pytz>=2017.2 in /usr/local/lib/python3.6/dist-packages (from pandas->qiskit-aqua==0.8.1->qiskit) (2018.9)\n",
            "Requirement already satisfied: cffi>=1.12 in /usr/local/lib/python3.6/dist-packages (from cryptography>=1.3->requests-ntlm>=1.1.0->qiskit-ibmq-provider==0.11.1->qiskit) (1.14.4)\n",
            "Requirement already satisfied: pycparser in /usr/local/lib/python3.6/dist-packages (from cffi>=1.12->cryptography>=1.3->requests-ntlm>=1.1.0->qiskit-ibmq-provider==0.11.1->qiskit) (2.20)\n",
            "Building wheels for collected packages: qiskit, python-constraint, contextvars, yfinance, dlx, docplex\n",
            "  Building wheel for qiskit (setup.py) ... \u001b[?25l\u001b[?25hdone\n",
            "  Created wheel for qiskit: filename=qiskit-0.23.2-cp36-none-any.whl size=2876 sha256=396816d39526154348a857d64417529fc69ad2b9b8ac2e6fd506a18896c76ce4\n",
            "  Stored in directory: /root/.cache/pip/wheels/c2/62/3e/d5aeec3b19ba0e2c0c10292747d0bd4489b34e3f3385a908d0\n",
            "  Building wheel for python-constraint (setup.py) ... \u001b[?25l\u001b[?25hdone\n",
            "  Created wheel for python-constraint: filename=python_constraint-1.4.0-py2.py3-none-any.whl size=24079 sha256=55c06d57a7841c32b4153d1278474e2370a522013bb6e41860afddfdd7d39a9a\n",
            "  Stored in directory: /root/.cache/pip/wheels/34/31/15/7b070b25d0a549d20ce2e9fe6d727471c2c61ef904720fd40c\n",
            "  Building wheel for contextvars (setup.py) ... \u001b[?25l\u001b[?25hdone\n",
            "  Created wheel for contextvars: filename=contextvars-2.4-cp36-none-any.whl size=7667 sha256=c6752d62aa38952b7860712e84ae270c42916c9268a8fbb4474143629bf70f3e\n",
            "  Stored in directory: /root/.cache/pip/wheels/a5/7d/68/1ebae2668bda2228686e3c1cf16f2c2384cea6e9334ad5f6de\n",
            "  Building wheel for yfinance (setup.py) ... \u001b[?25l\u001b[?25hdone\n",
            "  Created wheel for yfinance: filename=yfinance-0.1.55-py2.py3-none-any.whl size=22616 sha256=f5a4822c46e6d978ca4f5ad452941edd2b0ee5b14891e508efb56622ac5d37b8\n",
            "  Stored in directory: /root/.cache/pip/wheels/04/98/cc/2702a4242d60bdc14f48b4557c427ded1fe92aedf257d4565c\n",
            "  Building wheel for dlx (setup.py) ... \u001b[?25l\u001b[?25hdone\n",
            "  Created wheel for dlx: filename=dlx-1.0.4-cp36-none-any.whl size=5711 sha256=47dea327df494b35b15f8610ae5f6b4abbe7a58e3665e6879de6492e9b8079f2\n",
            "  Stored in directory: /root/.cache/pip/wheels/bb/ba/15/fdd0deb104df3254912998150ba9245668db06b00af5912d1a\n",
            "  Building wheel for docplex (setup.py) ... \u001b[?25l\u001b[?25hdone\n",
            "  Created wheel for docplex: filename=docplex-2.19.202-cp36-none-any.whl size=670938 sha256=4a0cbca90d078c5b1dfa7211f84297ec67143d0bfeae378882c5e91d0ad07e44\n",
            "  Stored in directory: /root/.cache/pip/wheels/33/bb/64/5dd51006e730eb1227b8033d1f9e2246b806d9985a70c90d99\n",
            "Successfully built qiskit python-constraint contextvars yfinance dlx docplex\n",
            "Installing collected packages: sympy, fastjsonschema, python-constraint, immutables, contextvars, ply, retworkx, qiskit-terra, pybind11, qiskit-aer, cryptography, ntlm-auth, requests-ntlm, websockets, qiskit-ibmq-provider, qiskit-ignis, lxml, yfinance, inflection, quandl, dlx, docplex, qiskit-aqua, qiskit\n",
            "  Found existing installation: sympy 1.1.1\n",
            "    Uninstalling sympy-1.1.1:\n",
            "      Successfully uninstalled sympy-1.1.1\n",
            "  Found existing installation: lxml 4.2.6\n",
            "    Uninstalling lxml-4.2.6:\n",
            "      Successfully uninstalled lxml-4.2.6\n",
            "Successfully installed contextvars-2.4 cryptography-3.3.1 dlx-1.0.4 docplex-2.19.202 fastjsonschema-2.14.5 immutables-0.14 inflection-0.5.1 lxml-4.6.2 ntlm-auth-1.5.0 ply-3.11 pybind11-2.6.1 python-constraint-1.4.0 qiskit-0.23.2 qiskit-aer-0.7.2 qiskit-aqua-0.8.1 qiskit-ibmq-provider-0.11.1 qiskit-ignis-0.5.1 qiskit-terra-0.16.1 quandl-3.5.3 requests-ntlm-1.1.0 retworkx-0.7.2 sympy-1.7.1 websockets-8.1 yfinance-0.1.55\n"
          ],
          "name": "stdout"
        }
      ]
    },
    {
      "cell_type": "markdown",
      "metadata": {
        "id": "9t9QMHCrzyxz"
      },
      "source": [
        "Create Quantum and Classical **register**"
      ]
    },
    {
      "cell_type": "code",
      "metadata": {
        "id": "kVv1L43jz35E"
      },
      "source": [
        "cr = ClassicalRegister(2)\r\n",
        "qr = QuantumRegister(2)\r\n",
        "circuit = QuantumCircuit(cr,qr)"
      ],
      "execution_count": 12,
      "outputs": []
    },
    {
      "cell_type": "markdown",
      "metadata": {
        "id": "L93Ry7NM0h3O"
      },
      "source": [
        "Bell State **Circuit**"
      ]
    },
    {
      "cell_type": "code",
      "metadata": {
        "colab": {
          "base_uri": "https://localhost:8080/"
        },
        "id": "FWKFaUnQ1OzX",
        "outputId": "44e49aaa-ff00-4b25-a9c6-07456a15fa21"
      },
      "source": [
        "!pip install pylatexenc"
      ],
      "execution_count": 6,
      "outputs": [
        {
          "output_type": "stream",
          "text": [
            "Collecting pylatexenc\n",
            "\u001b[?25l  Downloading https://files.pythonhosted.org/packages/40/d0/cad5f06137b8e1924a9b2c5b5ca07b75c6272bdfb14cb9df904d6fc5c05f/pylatexenc-2.8.tar.gz (158kB)\n",
            "\r\u001b[K     |██                              | 10kB 22.5MB/s eta 0:00:01\r\u001b[K     |████▏                           | 20kB 15.8MB/s eta 0:00:01\r\u001b[K     |██████▏                         | 30kB 15.9MB/s eta 0:00:01\r\u001b[K     |████████▎                       | 40kB 12.9MB/s eta 0:00:01\r\u001b[K     |██████████▎                     | 51kB 14.6MB/s eta 0:00:01\r\u001b[K     |████████████▍                   | 61kB 16.4MB/s eta 0:00:01\r\u001b[K     |██████████████▌                 | 71kB 13.6MB/s eta 0:00:01\r\u001b[K     |████████████████▌               | 81kB 13.9MB/s eta 0:00:01\r\u001b[K     |██████████████████▋             | 92kB 12.6MB/s eta 0:00:01\r\u001b[K     |████████████████████▋           | 102kB 12.3MB/s eta 0:00:01\r\u001b[K     |██████████████████████▊         | 112kB 12.3MB/s eta 0:00:01\r\u001b[K     |████████████████████████▉       | 122kB 12.3MB/s eta 0:00:01\r\u001b[K     |██████████████████████████▉     | 133kB 12.3MB/s eta 0:00:01\r\u001b[K     |█████████████████████████████   | 143kB 12.3MB/s eta 0:00:01\r\u001b[K     |███████████████████████████████ | 153kB 12.3MB/s eta 0:00:01\r\u001b[K     |████████████████████████████████| 163kB 12.3MB/s \n",
            "\u001b[?25hBuilding wheels for collected packages: pylatexenc\n",
            "  Building wheel for pylatexenc (setup.py) ... \u001b[?25l\u001b[?25hdone\n",
            "  Created wheel for pylatexenc: filename=pylatexenc-2.8-cp36-none-any.whl size=131377 sha256=ce88c45184617026aa14bb9a84f2683357c3a96b90cedd7250b190fab07dbcac\n",
            "  Stored in directory: /root/.cache/pip/wheels/88/23/90/4cf49f59c1eb67af40a2b3a580536bb5f91d40bc0d4cc8e035\n",
            "Successfully built pylatexenc\n",
            "Installing collected packages: pylatexenc\n",
            "Successfully installed pylatexenc-2.8\n"
          ],
          "name": "stdout"
        }
      ]
    },
    {
      "cell_type": "code",
      "metadata": {
        "colab": {
          "base_uri": "https://localhost:8080/",
          "height": 122
        },
        "id": "SjQsF83Q0kyZ",
        "outputId": "367f97ae-4415-4c90-c286-ad581cbbf93b"
      },
      "source": [
        "circuit.h(0)\r\n",
        "circuit.cx(0,1)\r\n",
        "\r\n",
        "%matplotlib inline\r\n",
        "circuit.draw(output = None)"
      ],
      "execution_count": 16,
      "outputs": [
        {
          "output_type": "execute_result",
          "data": {
            "text/html": [
              "<pre style=\"word-wrap: normal;white-space: pre;background: #fff0;line-height: 1.1;font-family: &quot;Courier New&quot;,Courier,monospace\">      ┌───┐     ┌───┐     ┌───┐     \n",
              "q1_0: ┤ H ├──■──┤ H ├──■──┤ H ├──■──\n",
              "      └───┘┌─┴─┐└───┘┌─┴─┐└───┘┌─┴─┐\n",
              "q1_1: ─────┤ X ├─────┤ X ├─────┤ X ├\n",
              "           └───┘     └───┘     └───┘\n",
              "c1: 2/══════════════════════════════\n",
              "                                    </pre>"
            ],
            "text/plain": [
              "      ┌───┐     ┌───┐     ┌───┐     \n",
              "q1_0: ┤ H ├──■──┤ H ├──■──┤ H ├──■──\n",
              "      └───┘┌─┴─┐└───┘┌─┴─┐└───┘┌─┴─┐\n",
              "q1_1: ─────┤ X ├─────┤ X ├─────┤ X ├\n",
              "           └───┘     └───┘     └───┘\n",
              "c1: 2/══════════════════════════════\n",
              "                                    "
            ]
          },
          "metadata": {
            "tags": []
          },
          "execution_count": 16
        }
      ]
    },
    {
      "cell_type": "markdown",
      "metadata": {
        "id": "3fkPNc-w3mEd"
      },
      "source": [
        "Spin-**up**"
      ]
    },
    {
      "cell_type": "code",
      "metadata": {
        "colab": {
          "base_uri": "https://localhost:8080/"
        },
        "id": "rcgSFZC02gNn",
        "outputId": "e0069882-286b-410b-a1c6-30c286a7837d"
      },
      "source": [
        "u = np.matrix([[1],[0]])\r\n",
        "\r\n",
        "##Identity Matrix\r\n",
        "I = np.matrix([[1,0],\r\n",
        "               [0,1]])\r\n",
        "\r\n",
        "##Hadamard gate\r\n",
        "H = np.matrix([[1,1],\r\n",
        "               [1,-1]])/np.sqrt(2)\r\n",
        "\r\n",
        "##Initial state vector\r\n",
        "psi = np.kron(u,u)\r\n",
        "\r\n",
        "##XI Gate\r\n",
        "HI = np.kron(H,I)\r\n",
        "\r\n",
        "##CNOT\r\n",
        "CNOT = np.matrix([[1,0,0,0],\r\n",
        "                  [0,1,0,0],\r\n",
        "                  [0,0,0,1],\r\n",
        "                  [0,0,1,0]])\r\n",
        "\r\n",
        "##Circuit Operation\r\n",
        "print(CNOT*HI*psi)"
      ],
      "execution_count": 23,
      "outputs": [
        {
          "output_type": "stream",
          "text": [
            "[[0.70710678]\n",
            " [0.        ]\n",
            " [0.        ]\n",
            " [0.70710678]]\n"
          ],
          "name": "stdout"
        }
      ]
    },
    {
      "cell_type": "code",
      "metadata": {
        "id": "DQtQlNJO7Cln"
      },
      "source": [
        "import networkx as nx\r\n",
        "from qiskit.visualization import plot_bloch_multivector"
      ],
      "execution_count": 24,
      "outputs": []
    },
    {
      "cell_type": "code",
      "metadata": {
        "id": "PxCCVYBc7c9U"
      },
      "source": [
        "##Graph State\r\n",
        "def graph_state_measure(G):\r\n",
        "  qr1 = QuantumRegister(len(G.nodes))\r\n",
        "  cr1 = ClassicalRegister(len(G.nodes))\r\n",
        "  circuit1 = QuantumCircuit(qr1,cr1)\r\n",
        "\r\n",
        "  ##Applying Hadamard gate\r\n",
        "  for vertex in G.nodes:\r\n",
        "    circuit1.h(vertex)\r\n",
        "\r\n",
        "  for x,y in G.edges():\r\n",
        "    circuit1.cz(x,y)\r\n",
        "  return circuit1"
      ],
      "execution_count": 26,
      "outputs": []
    },
    {
      "cell_type": "code",
      "metadata": {
        "colab": {
          "base_uri": "https://localhost:8080/",
          "height": 319
        },
        "id": "GLqi4yTz9kje",
        "outputId": "cded52d8-099e-4a53-e7e3-9156474bb298"
      },
      "source": [
        "G = nx.barbell_graph(5,1)\r\n",
        "nx.draw(G)"
      ],
      "execution_count": 29,
      "outputs": [
        {
          "output_type": "display_data",
          "data": {
            "image/png": "[encoded data removed]",
            "text/plain": [
              "<Figure size 432x288 with 1 Axes>"
            ]
          },
          "metadata": {
            "tags": []
          }
        }
      ]
    }
  ]
}